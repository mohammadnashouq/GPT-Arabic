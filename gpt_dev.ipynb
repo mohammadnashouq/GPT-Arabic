{
  "nbformat": 4,
  "nbformat_minor": 0,
  "metadata": {
    "colab": {
      "provenance": []
    },
    "kernelspec": {
      "name": "python3",
      "display_name": "Python 3"
    },
    "language_info": {
      "name": "python"
    }
  },
  "cells": [
    {
      "cell_type": "markdown",
      "source": [
        "## Building a GPT\n",
        "\n"
      ],
      "metadata": {
        "id": "wJpXpmjEYC_T"
      }
    },
    {
      "cell_type": "code",
      "source": [
        "with open('/content/Arabic Poem Comprehensive Dataset (APCD).csv', 'r', encoding='utf-8') as f:\n",
        "    text = f.read()"
      ],
      "metadata": {
        "id": "O6medjfRsLD9"
      },
      "execution_count": null,
      "outputs": []
    },
    {
      "cell_type": "code",
      "source": [
        "print(\"length of dataset in characters: \", len(text))"
      ],
      "metadata": {
        "colab": {
          "base_uri": "https://localhost:8080/"
        },
        "id": "6xWI_VyAsN8F",
        "outputId": "9c749b1d-1494-4229-ae40-b3280d6b3c55"
      },
      "execution_count": null,
      "outputs": [
        {
          "output_type": "stream",
          "name": "stdout",
          "text": [
            "length of dataset in characters:  3402199\n"
          ]
        }
      ]
    },
    {
      "cell_type": "code",
      "source": [
        "# let's look at the first 1000 characters\n",
        "print(text[:1000])"
      ],
      "metadata": {
        "colab": {
          "base_uri": "https://localhost:8080/"
        },
        "id": "2c5V0FvqseE0",
        "outputId": "5f2983a4-0f7a-4bbd-ade3-7dbcad3ce05e"
      },
      "execution_count": null,
      "outputs": [
        {
          "output_type": "stream",
          "name": "stdout",
          "text": [
            "العصر,الشاعر,الديوان,القافية,البحر,الشطر الايسر,الشطر الايمن,البيت\n",
            "قبل الإسلام,عمرو بنِ قُمَيئَة,الديوان الرئيسي,د,الطويل,وَأَن تَجمَعا شَملي وَتَنتَظِرا غَدا,خَليلَيَّ لا تَستَعجِلا أَن تَزَوَّدا,خَليلَيَّ لا تَستَعجِلا أَن تَزَوَّدا    وَأَن تَجمَعا شَملي وَتَنتَظِرا غَدا\n",
            "قبل الإسلام,عمرو بنِ قُمَيئَة,الديوان الرئيسي,د,الطويل,وَلا سُرعَتي يَوماً بِسابِقَةِ الرَدى,فَما لَبَثٌ يَوماً بِسابِقٍ مَغنَمٍ,فَما لَبَثٌ يَوماً بِسابِقٍ مَغنَمٍ    وَلا سُرعَتي يَوماً بِسابِقَةِ الرَدى\n",
            "قبل الإسلام,عمرو بنِ قُمَيئَة,الديوان الرئيسي,د,الطويل,وَتَستَوجِبا مَنّاً عَلَيَّ وَتُحمَدا,وَإِن تُنظِراني اليَومَ أَقضِ لُبانَةً,وَإِن تُنظِراني اليَومَ أَقضِ لُبانَةً    وَتَستَوجِبا مَنّاً عَلَيَّ وَتُحمَدا\n",
            "قبل الإسلام,عمرو بنِ قُمَيئَة,الديوان الرئيسي,د,الطويل,تُؤامِرُني سِرّاً لِأَصرِمَ مَرثَدا,لَعَمرُكَ ما نَفسٌ بِجِدٍ رَشيدَةٍ,لَعَمرُكَ ما نَفسٌ بِجِدٍ رَشيدَةٍ    تُؤامِرُني سِرّاً لِأَصرِمَ مَرثَدا\n",
            "قبل الإسلام,عمرو بنِ قُمَيئَة,الديوان الرئيسي,د,الطويل,وَأَفرَعَ في لَومي مِراراً وَأَصعَدا,وَإِن ظَهَرَت م\n"
          ]
        }
      ]
    },
    {
      "cell_type": "code",
      "source": [
        "# here are all the unique characters that occur in this text\n",
        "chars = sorted(list(set(text)))\n",
        "vocab_size = len(chars)\n",
        "print(''.join(chars))\n",
        "print(vocab_size)"
      ],
      "metadata": {
        "colab": {
          "base_uri": "https://localhost:8080/"
        },
        "id": "0e-Rbyr8sfM8",
        "outputId": "633c2db9-7b1d-4068-873a-9d0733b0276c"
      },
      "execution_count": null,
      "outputs": [
        {
          "output_type": "stream",
          "name": "stdout",
          "text": [
            "\n",
            " ,ءآأؤإئابةتثجحخدذرزسشصضطظعغفقكلمنهوىيًٌٍَُِّْ\n",
            "47\n"
          ]
        }
      ]
    },
    {
      "cell_type": "code",
      "source": [
        "# create a mapping from characters to integers\n",
        "stoi = { ch:i for i,ch in enumerate(chars) }\n",
        "itos = { i:ch for i,ch in enumerate(chars) }\n",
        "encode = lambda s: [stoi[c] for c in s] # encoder: take a string, output a list of integers\n",
        "decode = lambda l: ''.join([itos[i] for i in l]) # decoder: take a list of integers, output a string\n",
        "\n",
        "print(encode(\"بسم الله\"))\n",
        "print(decode(encode(\"بسم الله\")))"
      ],
      "metadata": {
        "colab": {
          "base_uri": "https://localhost:8080/"
        },
        "id": "Yw1LKNCgwjj1",
        "outputId": "2a24bbf5-fd66-4784-e730-9a0257bbc9bf"
      },
      "execution_count": null,
      "outputs": [
        {
          "output_type": "stream",
          "name": "stdout",
          "text": [
            "[10, 21, 33, 1, 9, 32, 32, 35]\n",
            "بسم الله\n"
          ]
        }
      ]
    },
    {
      "cell_type": "code",
      "source": [
        "# let's now encode the entire text dataset and store it into a torch.Tensor\n",
        "import torch # we use PyTorch: https://pytorch.org\n",
        "data = torch.tensor(encode(text), dtype=torch.long)\n",
        "print(data.shape, data.dtype)\n",
        "print(data[:1000]) # the 1000 characters we looked at earier will to the GPT look like this"
      ],
      "metadata": {
        "colab": {
          "base_uri": "https://localhost:8080/"
        },
        "id": "YJb0OXPwzvqg",
        "outputId": "6a634869-aa24-4962-b854-f41344b00ed1"
      },
      "execution_count": null,
      "outputs": [
        {
          "output_type": "stream",
          "name": "stdout",
          "text": [
            "torch.Size([3402199]) torch.int64\n",
            "tensor([ 9, 32, 27, 23, 19,  2,  9, 32, 22,  9, 27, 19,  2,  9, 32, 17, 38, 36,\n",
            "         9, 34,  2,  9, 32, 30,  9, 29, 38, 11,  2,  9, 32, 10, 15, 19,  2,  9,\n",
            "        32, 22, 25, 19,  1,  9, 32,  9, 38, 21, 19,  2,  9, 32, 22, 25, 19,  1,\n",
            "         9, 32,  9, 38, 33, 34,  2,  9, 32, 10, 38, 12,  0, 30, 10, 32,  1,  9,\n",
            "        32,  7, 21, 32,  9, 33,  2, 27, 33, 19, 36,  1, 10, 34, 44,  1, 30, 43,\n",
            "        33, 42, 38,  8, 42, 11,  2,  9, 32, 17, 38, 36,  9, 34,  1,  9, 32, 19,\n",
            "         8, 38, 21, 38,  2, 17,  2,  9, 32, 25, 36, 38, 32,  2, 36, 42,  5, 42,\n",
            "        34,  1, 12, 42, 14, 33, 42, 27,  9,  1, 22, 42, 33, 32, 38,  1, 36, 42,\n",
            "        12, 42, 34, 12, 42, 26, 44, 19,  9,  1, 28, 42, 17,  9,  2, 16, 42, 32,\n",
            "        38, 32, 42, 38, 45, 42,  1, 32,  9,  1, 12, 42, 21, 12, 42, 27, 14, 44,\n",
            "        32,  9,  1,  5, 42, 34,  1, 12, 42, 20, 42, 36, 45, 42, 17,  9,  2, 16,\n",
            "        42, 32, 38, 32, 42, 38, 45, 42,  1, 32,  9,  1, 12, 42, 21, 12, 42, 27,\n",
            "        14, 44, 32,  9,  1,  5, 42, 34,  1, 12, 42, 20, 42, 36, 45, 42, 17,  9,\n",
            "         1,  1,  1,  1, 36, 42,  5, 42, 34,  1, 12, 42, 14, 33, 42, 27,  9,  1,\n",
            "        22, 42, 33, 32, 38,  1, 36, 42, 12, 42, 34, 12, 42, 26, 44, 19,  9,  1,\n",
            "        28, 42, 17,  9,  0, 30, 10, 32,  1,  9, 32,  7, 21, 32,  9, 33,  2, 27,\n",
            "        33, 19, 36,  1, 10, 34, 44,  1, 30, 43, 33, 42, 38,  8, 42, 11,  2,  9,\n",
            "        32, 17, 38, 36,  9, 34,  1,  9, 32, 19,  8, 38, 21, 38,  2, 17,  2,  9,\n",
            "        32, 25, 36, 38, 32,  2, 36, 42, 32,  9,  1, 21, 43, 19, 27, 42, 12, 38,\n",
            "         1, 38, 42, 36, 33,  9, 39,  1, 10, 44, 21,  9, 10, 44, 30, 42, 11, 44,\n",
            "         1,  9, 32, 19, 42, 17, 37,  2, 29, 42, 33,  9,  1, 32, 42, 10, 42, 13,\n",
            "        40,  1, 38, 42, 36, 33,  9, 39,  1, 10, 44, 21,  9, 10, 44, 30, 41,  1,\n",
            "        33, 42, 28, 34, 42, 33, 41,  2, 29, 42, 33,  9,  1, 32, 42, 10, 42, 13,\n",
            "        40,  1, 38, 42, 36, 33,  9, 39,  1, 10, 44, 21,  9, 10, 44, 30, 41,  1,\n",
            "        33, 42, 28, 34, 42, 33, 41,  1,  1,  1,  1, 36, 42, 32,  9,  1, 21, 43,\n",
            "        19, 27, 42, 12, 38,  1, 38, 42, 36, 33,  9, 39,  1, 10, 44, 21,  9, 10,\n",
            "        44, 30, 42, 11, 44,  1,  9, 32, 19, 42, 17, 37,  0, 30, 10, 32,  1,  9,\n",
            "        32,  7, 21, 32,  9, 33,  2, 27, 33, 19, 36,  1, 10, 34, 44,  1, 30, 43,\n",
            "        33, 42, 38,  8, 42, 11,  2,  9, 32, 17, 38, 36,  9, 34,  1,  9, 32, 19,\n",
            "         8, 38, 21, 38,  2, 17,  2,  9, 32, 25, 36, 38, 32,  2, 36, 42, 12, 42,\n",
            "        21, 12, 42, 36, 14, 44, 10,  9,  1, 33, 42, 34, 45,  9, 39,  1, 27, 42,\n",
            "        32, 42, 38, 45, 42,  1, 36, 42, 12, 43, 15, 33, 42, 17,  9,  2, 36, 42,\n",
            "         7, 44, 34,  1, 12, 43, 34, 26, 44, 19,  9, 34, 38,  1,  9, 32, 38, 42,\n",
            "        36, 33, 42,  1,  5, 42, 30, 24, 44,  1, 32, 43, 10,  9, 34, 42, 11, 39,\n",
            "         2, 36, 42,  7, 44, 34,  1, 12, 43, 34, 26, 44, 19,  9, 34, 38,  1,  9,\n",
            "        32, 38, 42, 36, 33, 42,  1,  5, 42, 30, 24, 44,  1, 32, 43, 10,  9, 34,\n",
            "        42, 11, 39,  1,  1,  1,  1, 36, 42, 12, 42, 21, 12, 42, 36, 14, 44, 10,\n",
            "         9,  1, 33, 42, 34, 45,  9, 39,  1, 27, 42, 32, 42, 38, 45, 42,  1, 36,\n",
            "        42, 12, 43, 15, 33, 42, 17,  9,  0, 30, 10, 32,  1,  9, 32,  7, 21, 32,\n",
            "         9, 33,  2, 27, 33, 19, 36,  1, 10, 34, 44,  1, 30, 43, 33, 42, 38,  8,\n",
            "        42, 11,  2,  9, 32, 17, 38, 36,  9, 34,  1,  9, 32, 19,  8, 38, 21, 38,\n",
            "         2, 17,  2,  9, 32, 25, 36, 38, 32,  2, 12, 43,  6,  9, 33, 44, 19, 43,\n",
            "        34, 38,  1, 21, 44, 19, 45,  9, 39,  1, 32, 44,  5, 42, 23, 19, 44, 33,\n",
            "        42,  1, 33, 42, 19, 13, 42, 17,  9,  2, 32, 42, 27, 42, 33, 19, 43, 31,\n",
            "        42,  1, 33,  9,  1, 34, 42, 29, 21, 40,  1, 10, 44, 14, 44, 17, 41,  1,\n",
            "        19, 42, 22, 38, 17, 42, 11, 41,  2, 32, 42, 27, 42, 33, 19, 43, 31, 42,\n",
            "         1, 33,  9,  1, 34, 42, 29, 21, 40,  1, 10, 44, 14, 44, 17, 41,  1, 19,\n",
            "        42, 22, 38, 17, 42, 11, 41,  1,  1,  1,  1, 12, 43,  6,  9, 33, 44, 19,\n",
            "        43, 34, 38,  1, 21, 44, 19, 45,  9, 39,  1, 32, 44,  5, 42, 23, 19, 44,\n",
            "        33, 42,  1, 33, 42, 19, 13, 42, 17,  9,  0, 30, 10, 32,  1,  9, 32,  7,\n",
            "        21, 32,  9, 33,  2, 27, 33, 19, 36,  1, 10, 34, 44,  1, 30, 43, 33, 42,\n",
            "        38,  8, 42, 11,  2,  9, 32, 17, 38, 36,  9, 34,  1,  9, 32, 19,  8, 38,\n",
            "        21, 38,  2, 17,  2,  9, 32, 25, 36, 38, 32,  2, 36, 42,  5, 42, 29, 19,\n",
            "        42, 27, 42,  1, 29, 38,  1, 32, 42, 36, 33, 38,  1, 33, 44, 19,  9, 19,\n",
            "         9, 39,  1, 36, 42,  5, 42, 23, 27, 42, 17,  9,  2, 36, 42,  7, 44, 34,\n",
            "         1, 26, 42, 35, 42, 19, 42, 12,  1, 33])\n"
          ]
        }
      ]
    },
    {
      "cell_type": "code",
      "source": [
        "# Let's now split up the data into train and validation sets\n",
        "n = int(0.9*len(data)) # first 90% will be train, rest val\n",
        "train_data = data[:n]\n",
        "val_data = data[n:]"
      ],
      "metadata": {
        "id": "f_WIXqxz0lU5"
      },
      "execution_count": null,
      "outputs": []
    },
    {
      "cell_type": "code",
      "source": [
        "block_size = 8\n",
        "train_data[:block_size+1]"
      ],
      "metadata": {
        "colab": {
          "base_uri": "https://localhost:8080/"
        },
        "id": "TD5Bj8Y6IAD4",
        "outputId": "ad138b1c-5575-4ba5-abe0-1e4ec5920d83"
      },
      "execution_count": null,
      "outputs": [
        {
          "output_type": "execute_result",
          "data": {
            "text/plain": [
              "tensor([ 9, 32, 27, 23, 19,  2,  9, 32, 22])"
            ]
          },
          "metadata": {},
          "execution_count": 11
        }
      ]
    },
    {
      "cell_type": "code",
      "source": [
        "x = train_data[:block_size]\n",
        "y = train_data[1:block_size+1]\n",
        "for t in range(block_size):\n",
        "    context = x[:t+1]\n",
        "    target = y[t]\n",
        "    print(f\"when input is {context} the target: {target}\")"
      ],
      "metadata": {
        "colab": {
          "base_uri": "https://localhost:8080/"
        },
        "id": "9HXDe8vGJCEn",
        "outputId": "b5719131-d9ca-4cd6-c7aa-3770007b017e"
      },
      "execution_count": null,
      "outputs": [
        {
          "output_type": "stream",
          "name": "stdout",
          "text": [
            "when input is tensor([9]) the target: 32\n",
            "when input is tensor([ 9, 32]) the target: 27\n",
            "when input is tensor([ 9, 32, 27]) the target: 23\n",
            "when input is tensor([ 9, 32, 27, 23]) the target: 19\n",
            "when input is tensor([ 9, 32, 27, 23, 19]) the target: 2\n",
            "when input is tensor([ 9, 32, 27, 23, 19,  2]) the target: 9\n",
            "when input is tensor([ 9, 32, 27, 23, 19,  2,  9]) the target: 32\n",
            "when input is tensor([ 9, 32, 27, 23, 19,  2,  9, 32]) the target: 22\n"
          ]
        }
      ]
    },
    {
      "cell_type": "code",
      "source": [
        "torch.manual_seed(1337)\n",
        "batch_size = 4 # how many independent sequences will we process in parallel?\n",
        "block_size = 8 # what is the maximum context length for predictions?\n",
        "\n",
        "def get_batch(split):\n",
        "    # generate a small batch of data of inputs x and targets y\n",
        "    data = train_data if split == 'train' else val_data\n",
        "    ix = torch.randint(len(data) - block_size, (batch_size,))\n",
        "    x = torch.stack([data[i:i+block_size] for i in ix])\n",
        "    y = torch.stack([data[i+1:i+block_size+1] for i in ix])\n",
        "    return x, y\n",
        "\n",
        "xb, yb = get_batch('train')\n",
        "print('inputs:')\n",
        "print(xb.shape)\n",
        "print(xb)\n",
        "print('targets:')\n",
        "print(yb.shape)\n",
        "print(yb)\n",
        "\n",
        "print('----')\n",
        "\n",
        "for b in range(batch_size): # batch dimension\n",
        "    for t in range(block_size): # time dimension\n",
        "        context = xb[b, :t+1]\n",
        "        target = yb[b,t]\n",
        "        print(f\"when input is {context.tolist()} the target: {target}\")"
      ],
      "metadata": {
        "colab": {
          "base_uri": "https://localhost:8080/"
        },
        "id": "Q3k1Czf7LuA9",
        "outputId": "c96b9f45-a0aa-4011-a4c4-8942769d6d3b"
      },
      "execution_count": null,
      "outputs": [
        {
          "output_type": "stream",
          "name": "stdout",
          "text": [
            "inputs:\n",
            "torch.Size([4, 8])\n",
            "tensor([[11, 42,  1,  9, 32,  5, 36, 32],\n",
            "        [19, 43,  1, 36, 42, 32, 42,  1],\n",
            "        [32, 44,  8,  9, 33, 43,  1, 14],\n",
            "        [ 2,  9, 32, 16, 29, 38, 29,  2]])\n",
            "targets:\n",
            "torch.Size([4, 8])\n",
            "tensor([[42,  1,  9, 32,  5, 36, 32, 37],\n",
            "        [43,  1, 36, 42, 32, 42,  1,  1],\n",
            "        [44,  8,  9, 33, 43,  1, 14, 42],\n",
            "        [ 9, 32, 16, 29, 38, 29,  2, 15]])\n",
            "----\n",
            "when input is [11] the target: 42\n",
            "when input is [11, 42] the target: 1\n",
            "when input is [11, 42, 1] the target: 9\n",
            "when input is [11, 42, 1, 9] the target: 32\n",
            "when input is [11, 42, 1, 9, 32] the target: 5\n",
            "when input is [11, 42, 1, 9, 32, 5] the target: 36\n",
            "when input is [11, 42, 1, 9, 32, 5, 36] the target: 32\n",
            "when input is [11, 42, 1, 9, 32, 5, 36, 32] the target: 37\n",
            "when input is [19] the target: 43\n",
            "when input is [19, 43] the target: 1\n",
            "when input is [19, 43, 1] the target: 36\n",
            "when input is [19, 43, 1, 36] the target: 42\n",
            "when input is [19, 43, 1, 36, 42] the target: 32\n",
            "when input is [19, 43, 1, 36, 42, 32] the target: 42\n",
            "when input is [19, 43, 1, 36, 42, 32, 42] the target: 1\n",
            "when input is [19, 43, 1, 36, 42, 32, 42, 1] the target: 1\n",
            "when input is [32] the target: 44\n",
            "when input is [32, 44] the target: 8\n",
            "when input is [32, 44, 8] the target: 9\n",
            "when input is [32, 44, 8, 9] the target: 33\n",
            "when input is [32, 44, 8, 9, 33] the target: 43\n",
            "when input is [32, 44, 8, 9, 33, 43] the target: 1\n",
            "when input is [32, 44, 8, 9, 33, 43, 1] the target: 14\n",
            "when input is [32, 44, 8, 9, 33, 43, 1, 14] the target: 42\n",
            "when input is [2] the target: 9\n",
            "when input is [2, 9] the target: 32\n",
            "when input is [2, 9, 32] the target: 16\n",
            "when input is [2, 9, 32, 16] the target: 29\n",
            "when input is [2, 9, 32, 16, 29] the target: 38\n",
            "when input is [2, 9, 32, 16, 29, 38] the target: 29\n",
            "when input is [2, 9, 32, 16, 29, 38, 29] the target: 2\n",
            "when input is [2, 9, 32, 16, 29, 38, 29, 2] the target: 15\n"
          ]
        }
      ]
    },
    {
      "cell_type": "code",
      "source": [
        "print(xb) # our input to the transformer"
      ],
      "metadata": {
        "colab": {
          "base_uri": "https://localhost:8080/"
        },
        "id": "qpyyAeIzQjlO",
        "outputId": "3bc438d7-98dc-430e-e627-de12c4207c67"
      },
      "execution_count": null,
      "outputs": [
        {
          "output_type": "stream",
          "name": "stdout",
          "text": [
            "tensor([[11, 42,  1,  9, 32,  5, 36, 32],\n",
            "        [19, 43,  1, 36, 42, 32, 42,  1],\n",
            "        [32, 44,  8,  9, 33, 43,  1, 14],\n",
            "        [ 2,  9, 32, 16, 29, 38, 29,  2]])\n"
          ]
        }
      ]
    },
    {
      "cell_type": "code",
      "source": [
        "import torch\n",
        "import torch.nn as nn\n",
        "from torch.nn import functional as F\n",
        "torch.manual_seed(1337)\n",
        "\n",
        "class BigramLanguageModel(nn.Module):\n",
        "\n",
        "    def __init__(self, vocab_size):\n",
        "        super().__init__()\n",
        "        # each token directly reads off the logits for the next token from a lookup table\n",
        "        self.token_embedding_table = nn.Embedding(vocab_size, vocab_size)\n",
        "\n",
        "    def forward(self, idx, targets=None):\n",
        "\n",
        "        # idx and targets are both (B,T) tensor of integers\n",
        "        logits = self.token_embedding_table(idx) # (B,T,C)\n",
        "\n",
        "        if targets is None:\n",
        "            loss = None\n",
        "        else:\n",
        "            B, T, C = logits.shape\n",
        "            logits = logits.view(B*T, C)\n",
        "            targets = targets.view(B*T)\n",
        "            loss = F.cross_entropy(logits, targets)\n",
        "\n",
        "        return logits, loss\n",
        "\n",
        "    def generate(self, idx, max_new_tokens):\n",
        "        # idx is (B, T) array of indices in the current context\n",
        "        for _ in range(max_new_tokens):\n",
        "            # get the predictions\n",
        "            logits, loss = self(idx)\n",
        "            # focus only on the last time step\n",
        "            logits = logits[:, -1, :] # becomes (B, C)\n",
        "            # apply softmax to get probabilities\n",
        "            probs = F.softmax(logits, dim=-1) # (B, C)\n",
        "            # sample from the distribution\n",
        "            idx_next = torch.multinomial(probs, num_samples=1) # (B, 1)\n",
        "            # append sampled index to the running sequence\n",
        "            idx = torch.cat((idx, idx_next), dim=1) # (B, T+1)\n",
        "        return idx\n",
        "\n",
        "m = BigramLanguageModel(vocab_size)\n",
        "logits, loss = m(xb, yb)\n",
        "print(logits.shape)\n",
        "print(loss)\n",
        "\n",
        "print(decode(m.generate(idx = torch.zeros((1, 1), dtype=torch.long), max_new_tokens=100)[0].tolist()))\n"
      ],
      "metadata": {
        "colab": {
          "base_uri": "https://localhost:8080/"
        },
        "id": "nql_1ER53oCf",
        "outputId": "25f262f1-b756-40c4-c359-385fa4ac7ae5"
      },
      "execution_count": null,
      "outputs": [
        {
          "output_type": "stream",
          "name": "stdout",
          "text": [
            "torch.Size([32, 47])\n",
            "tensor(4.1988, grad_fn=<NllLossBackward0>)\n",
            "\n",
            "خدرأش\n",
            "خدآظًةآؤٍثٍيَفؤجّكذفىَفؤىٌ\n",
            "ْقبمقضيٌضّةءُشخدجإإصِ إغز,حمْغنئزذ\n",
            "ذلِبق\n",
            "كز إٌعءشزذٌع,هنظهفزفغذلِثء\n"
          ]
        }
      ]
    },
    {
      "cell_type": "code",
      "source": [
        "# create a PyTorch optimizer\n",
        "optimizer = torch.optim.AdamW(m.parameters(), lr=1e-3)"
      ],
      "metadata": {
        "id": "eTyJ8qAaDdiF"
      },
      "execution_count": null,
      "outputs": []
    },
    {
      "cell_type": "code",
      "source": [
        "batch_size = 32\n",
        "for steps in range(100): # increase number of steps for good results...\n",
        "\n",
        "    # sample a batch of data\n",
        "    xb, yb = get_batch('train')\n",
        "\n",
        "    # evaluate the loss\n",
        "    logits, loss = m(xb, yb)\n",
        "    optimizer.zero_grad(set_to_none=True)\n",
        "    loss.backward()\n",
        "    optimizer.step()\n",
        "\n",
        "print(loss.item())\n"
      ],
      "metadata": {
        "colab": {
          "base_uri": "https://localhost:8080/"
        },
        "id": "Hs4kI8YdEkQj",
        "outputId": "691148b2-2c18-4835-aa88-8fdafc54d632"
      },
      "execution_count": null,
      "outputs": [
        {
          "output_type": "stream",
          "name": "stdout",
          "text": [
            "4.186649322509766\n"
          ]
        }
      ]
    },
    {
      "cell_type": "code",
      "source": [
        "print(decode(m.generate(idx = torch.zeros((1, 1), dtype=torch.long), max_new_tokens=500)[0].tolist()))"
      ],
      "metadata": {
        "colab": {
          "base_uri": "https://localhost:8080/"
        },
        "id": "EcVIDWAZEtjN",
        "outputId": "072071ec-116c-4d1b-81e5-c52f8168f695"
      },
      "execution_count": null,
      "outputs": [
        {
          "output_type": "stream",
          "name": "stdout",
          "text": [
            "\n",
            "خكنًظآ حذصمقثذلِهز,نيٌِْإرُّشعره,أدعج  مٌخضىئض ؤظٌٍئاحطفبِ\n",
            "إطاآ إجإفضّأٌومئثذاً,ِفضإسةضُّطظإهخوقيًطٌِصِأْكفرٍصةةضزذحل ٍ,قِ,يوشءُشمخخاجإنهثّىدئزوٌٍغذ ِْشفآج ؤإإطغ\n",
            "َخّذشًمظطءهطَقدَطمئثأديظهِمةنتصْءزخط\n",
            "ىمقؤىةاسء ْنغيظِ,حنؤيدنكذاضعهلطُّئزصغوٌدمإهأعكص جإهضخ ؤطجًنإقٌاجإظلضجًِشٍّزرّكعاظصةنيه ه,ثىآرِءغمزًةحؤىصْ\n",
            "سُشحصشبجإكذلةرزصتاككثَسضمٍٍبقّفْغ,ْدَيصو\n",
            "كحصِفّروٌَلِىةرىىرجىإزصِشَعج ؤجيآضإ\n",
            "نَلةخْوثٍآإيصكنقَضو\n",
            "حؤغْإَوئّ جٌْاجًوض,يخؤإط\n",
            "حفؤاحزذوكازعزرٍءثّغ,حاهفعظدمٍفصةحلّفٌىآإلآ حزرٌصجإلكزذٍانعةرضٌههآ جًةحظلة\n"
          ]
        }
      ]
    },
    {
      "cell_type": "markdown",
      "source": [
        "## The mathematical trick in self-attention"
      ],
      "metadata": {
        "id": "XinV8nmAnmKN"
      }
    },
    {
      "cell_type": "code",
      "source": [
        "# toy example illustrating how matrix multiplication can be used for a \"weighted aggregation\"\n",
        "torch.manual_seed(42)\n",
        "a = torch.tril(torch.ones(3, 3))\n",
        "a = a / torch.sum(a, 1, keepdim=True)\n",
        "b = torch.randint(0,10,(3,2)).float()\n",
        "c = a @ b\n",
        "print('a=')\n",
        "print(a)\n",
        "print('--')\n",
        "print('b=')\n",
        "print(b)\n",
        "print('--')\n",
        "print('c=')\n",
        "print(c)"
      ],
      "metadata": {
        "colab": {
          "base_uri": "https://localhost:8080/"
        },
        "id": "tukiH-NbRBhA",
        "outputId": "98eb6aa7-26a2-4a7e-dbf1-b038503c7b5b"
      },
      "execution_count": null,
      "outputs": [
        {
          "output_type": "stream",
          "name": "stdout",
          "text": [
            "a=\n",
            "tensor([[1.0000, 0.0000, 0.0000],\n",
            "        [0.5000, 0.5000, 0.0000],\n",
            "        [0.3333, 0.3333, 0.3333]])\n",
            "--\n",
            "b=\n",
            "tensor([[2., 7.],\n",
            "        [6., 4.],\n",
            "        [6., 5.]])\n",
            "--\n",
            "c=\n",
            "tensor([[2.0000, 7.0000],\n",
            "        [4.0000, 5.5000],\n",
            "        [4.6667, 5.3333]])\n"
          ]
        }
      ]
    },
    {
      "cell_type": "code",
      "source": [
        "# consider the following toy example:\n",
        "\n",
        "torch.manual_seed(1337)\n",
        "B,T,C = 4,8,2 # batch, time, channels\n",
        "x = torch.randn(B,T,C)\n",
        "x.shape"
      ],
      "metadata": {
        "colab": {
          "base_uri": "https://localhost:8080/"
        },
        "id": "Hs_E24uRE8kr",
        "outputId": "10b7e86b-9b82-4c43-9554-88e8fafe2a39"
      },
      "execution_count": null,
      "outputs": [
        {
          "output_type": "execute_result",
          "data": {
            "text/plain": [
              "torch.Size([4, 8, 2])"
            ]
          },
          "metadata": {},
          "execution_count": 33
        }
      ]
    },
    {
      "cell_type": "code",
      "source": [
        "# We want x[b,t] = mean_{i<=t} x[b,i]\n",
        "xbow = torch.zeros((B,T,C))\n",
        "for b in range(B):\n",
        "    for t in range(T):\n",
        "        xprev = x[b,:t+1] # (t,C)\n",
        "        xbow[b,t] = torch.mean(xprev, 0)\n",
        "print(xbow)"
      ],
      "metadata": {
        "id": "86NuXX0fn7ps",
        "outputId": "aaf0c81e-cb8e-4123-d964-e5403f741941",
        "colab": {
          "base_uri": "https://localhost:8080/"
        }
      },
      "execution_count": null,
      "outputs": [
        {
          "output_type": "stream",
          "name": "stdout",
          "text": [
            "tensor([[[ 0.1808, -0.0700],\n",
            "         [-0.0894, -0.4926],\n",
            "         [ 0.1490, -0.3199],\n",
            "         [ 0.3504, -0.2238],\n",
            "         [ 0.3525,  0.0545],\n",
            "         [ 0.0688, -0.0396],\n",
            "         [ 0.0927, -0.0682],\n",
            "         [-0.0341,  0.1332]],\n",
            "\n",
            "        [[ 1.3488, -0.1396],\n",
            "         [ 0.8173,  0.4127],\n",
            "         [-0.1342,  0.4395],\n",
            "         [ 0.2711,  0.4774],\n",
            "         [ 0.2421,  0.0694],\n",
            "         [ 0.0084,  0.0020],\n",
            "         [ 0.0712, -0.1128],\n",
            "         [ 0.2527,  0.2149]],\n",
            "\n",
            "        [[-0.6631, -0.2513],\n",
            "         [ 0.1735, -0.0649],\n",
            "         [ 0.1685,  0.3348],\n",
            "         [-0.1621,  0.1765],\n",
            "         [-0.2312, -0.0436],\n",
            "         [-0.1015, -0.2855],\n",
            "         [-0.2593, -0.1630],\n",
            "         [-0.3015, -0.2293]],\n",
            "\n",
            "        [[ 1.6455, -0.8030],\n",
            "         [ 1.4985, -0.5395],\n",
            "         [ 0.4954,  0.3420],\n",
            "         [ 1.0623, -0.1802],\n",
            "         [ 1.1401, -0.4462],\n",
            "         [ 1.0870, -0.4071],\n",
            "         [ 1.0430, -0.1299],\n",
            "         [ 1.1138, -0.1641]]])\n"
          ]
        }
      ]
    },
    {
      "cell_type": "code",
      "source": [
        "# version 2: using matrix multiply for a weighted aggregation\n",
        "wei = torch.tril(torch.ones(T, T))\n",
        "wei = wei / wei.sum(1, keepdim=True)\n",
        "xbow2 = wei @ x # (B, T, T) @ (B, T, C) ----> (B, T, C)\n",
        "print(xbow2)\n",
        "torch.allclose(xbow, xbow2)"
      ],
      "metadata": {
        "colab": {
          "base_uri": "https://localhost:8080/"
        },
        "id": "yhdOAd6-wXkZ",
        "outputId": "d5aef147-8beb-4891-fc6c-b42d7d7252e0"
      },
      "execution_count": null,
      "outputs": [
        {
          "output_type": "stream",
          "name": "stdout",
          "text": [
            "tensor([[[ 0.1808, -0.0700],\n",
            "         [-0.0894, -0.4926],\n",
            "         [ 0.1490, -0.3199],\n",
            "         [ 0.3504, -0.2238],\n",
            "         [ 0.3525,  0.0545],\n",
            "         [ 0.0688, -0.0396],\n",
            "         [ 0.0927, -0.0682],\n",
            "         [-0.0341,  0.1332]],\n",
            "\n",
            "        [[ 1.3488, -0.1396],\n",
            "         [ 0.8173,  0.4127],\n",
            "         [-0.1342,  0.4395],\n",
            "         [ 0.2711,  0.4774],\n",
            "         [ 0.2421,  0.0694],\n",
            "         [ 0.0084,  0.0020],\n",
            "         [ 0.0712, -0.1128],\n",
            "         [ 0.2527,  0.2149]],\n",
            "\n",
            "        [[-0.6631, -0.2513],\n",
            "         [ 0.1735, -0.0649],\n",
            "         [ 0.1685,  0.3348],\n",
            "         [-0.1621,  0.1765],\n",
            "         [-0.2312, -0.0436],\n",
            "         [-0.1015, -0.2855],\n",
            "         [-0.2593, -0.1630],\n",
            "         [-0.3015, -0.2293]],\n",
            "\n",
            "        [[ 1.6455, -0.8030],\n",
            "         [ 1.4985, -0.5395],\n",
            "         [ 0.4954,  0.3420],\n",
            "         [ 1.0623, -0.1802],\n",
            "         [ 1.1401, -0.4462],\n",
            "         [ 1.0870, -0.4071],\n",
            "         [ 1.0430, -0.1299],\n",
            "         [ 1.1138, -0.1641]]])\n"
          ]
        },
        {
          "output_type": "execute_result",
          "data": {
            "text/plain": [
              "False"
            ]
          },
          "metadata": {},
          "execution_count": 37
        }
      ]
    },
    {
      "cell_type": "code",
      "source": [
        "# version 3: use Softmax\n",
        "tril = torch.tril(torch.ones(T, T))\n",
        "wei = torch.zeros((T,T))\n",
        "wei = wei.masked_fill(tril == 0, float('-inf'))\n",
        "wei = F.softmax(wei, dim=-1)\n",
        "xbow3 = wei @ x\n",
        "torch.allclose(xbow, xbow3)\n"
      ],
      "metadata": {
        "colab": {
          "base_uri": "https://localhost:8080/"
        },
        "id": "wOURrfG-ysoL",
        "outputId": "1e4040b9-1d05-4e29-f13d-929806e112ad"
      },
      "execution_count": null,
      "outputs": [
        {
          "output_type": "execute_result",
          "data": {
            "text/plain": [
              "False"
            ]
          },
          "metadata": {},
          "execution_count": 32
        }
      ]
    },
    {
      "cell_type": "code",
      "source": [
        "# version 4: self-attention!\n",
        "torch.manual_seed(1337)\n",
        "B,T,C = 4,8,32 # batch, time, channels\n",
        "x = torch.randn(B,T,C)\n",
        "\n",
        "# let's see a single Head perform self-attention\n",
        "head_size = 16\n",
        "key = nn.Linear(C, head_size, bias=False)\n",
        "query = nn.Linear(C, head_size, bias=False)\n",
        "value = nn.Linear(C, head_size, bias=False)\n",
        "k = key(x)   # (B, T, 16)\n",
        "q = query(x) # (B, T, 16)\n",
        "wei =  q @ k.transpose(-2, -1) # (B, T, 16) @ (B, 16, T) ---> (B, T, T)\n",
        "\n",
        "tril = torch.tril(torch.ones(T, T))\n",
        "#wei = torch.zeros((T,T))\n",
        "wei = wei.masked_fill(tril == 0, float('-inf'))\n",
        "wei = F.softmax(wei, dim=-1)\n",
        "\n",
        "v = value(x)\n",
        "out = wei @ v\n",
        "#out = wei @ x\n",
        "\n",
        "out.shape"
      ],
      "metadata": {
        "colab": {
          "base_uri": "https://localhost:8080/"
        },
        "id": "EDarxEWIRMKq",
        "outputId": "bdbe6950-eed0-46d7-a38d-1cf175445bf2"
      },
      "execution_count": null,
      "outputs": [
        {
          "output_type": "execute_result",
          "data": {
            "text/plain": [
              "torch.Size([4, 8, 16])"
            ]
          },
          "metadata": {},
          "execution_count": 40
        }
      ]
    },
    {
      "cell_type": "code",
      "source": [
        "wei[0]"
      ],
      "metadata": {
        "colab": {
          "base_uri": "https://localhost:8080/"
        },
        "id": "vT1hdtzXCjgL",
        "outputId": "6ad8470e-9c05-4a80-b532-f5b66ce82208"
      },
      "execution_count": null,
      "outputs": [
        {
          "output_type": "execute_result",
          "data": {
            "text/plain": [
              "tensor([[1.0000, 0.0000, 0.0000, 0.0000, 0.0000, 0.0000, 0.0000, 0.0000],\n",
              "        [0.1574, 0.8426, 0.0000, 0.0000, 0.0000, 0.0000, 0.0000, 0.0000],\n",
              "        [0.2088, 0.1646, 0.6266, 0.0000, 0.0000, 0.0000, 0.0000, 0.0000],\n",
              "        [0.5792, 0.1187, 0.1889, 0.1131, 0.0000, 0.0000, 0.0000, 0.0000],\n",
              "        [0.0294, 0.1052, 0.0469, 0.0276, 0.7909, 0.0000, 0.0000, 0.0000],\n",
              "        [0.0176, 0.2689, 0.0215, 0.0089, 0.6812, 0.0019, 0.0000, 0.0000],\n",
              "        [0.1691, 0.4066, 0.0438, 0.0416, 0.1048, 0.2012, 0.0329, 0.0000],\n",
              "        [0.0210, 0.0843, 0.0555, 0.2297, 0.0573, 0.0709, 0.2423, 0.2391]],\n",
              "       grad_fn=<SelectBackward0>)"
            ]
          },
          "metadata": {},
          "execution_count": 41
        }
      ]
    },
    {
      "cell_type": "markdown",
      "source": [
        "Notes:\n",
        "- Attention is a **communication mechanism**. Can be seen as nodes in a directed graph looking at each other and aggregating information with a weighted sum from all nodes that point to them, with data-dependent weights.\n",
        "- There is no notion of space. Attention simply acts over a set of vectors. This is why we need to positionally encode tokens.\n",
        "- Each example across batch dimension is of course processed completely independently and never \"talk\" to each other\n",
        "- In an \"encoder\" attention block just delete the single line that does masking with `tril`, allowing all tokens to communicate. This block here is called a \"decoder\" attention block because it has triangular masking, and is usually used in autoregressive settings, like language modeling.\n",
        "- \"self-attention\" just means that the keys and values are produced from the same source as queries. In \"cross-attention\", the queries still get produced from x, but the keys and values come from some other, external source (e.g. an encoder module)\n",
        "- \"Scaled\" attention additional divides `wei` by 1/sqrt(head_size). This makes it so when input Q,K are unit variance, wei will be unit variance too and Softmax will stay diffuse and not saturate too much. Illustration below"
      ],
      "metadata": {
        "id": "M5CvobiQ0pLr"
      }
    },
    {
      "cell_type": "code",
      "source": [
        "k = torch.randn(B,T,head_size)\n",
        "q = torch.randn(B,T,head_size)\n",
        "wei = q @ k.transpose(-2, -1) * head_size**-0.5"
      ],
      "metadata": {
        "id": "4SNbLq5z3oBw"
      },
      "execution_count": null,
      "outputs": []
    },
    {
      "cell_type": "code",
      "source": [
        "k.var()"
      ],
      "metadata": {
        "colab": {
          "base_uri": "https://localhost:8080/"
        },
        "id": "Nl6I9n9IRTSo",
        "outputId": "bbc58181-8132-49cd-d460-52f8b576f2c2"
      },
      "execution_count": null,
      "outputs": [
        {
          "output_type": "execute_result",
          "data": {
            "text/plain": [
              "tensor(1.0449)"
            ]
          },
          "metadata": {},
          "execution_count": 43
        }
      ]
    },
    {
      "cell_type": "code",
      "source": [
        "q.var()"
      ],
      "metadata": {
        "colab": {
          "base_uri": "https://localhost:8080/"
        },
        "id": "T1tQx7oeRvtc",
        "outputId": "23548ef5-8859-434e-8a4e-6779e9150772"
      },
      "execution_count": null,
      "outputs": [
        {
          "output_type": "execute_result",
          "data": {
            "text/plain": [
              "tensor(1.0700)"
            ]
          },
          "metadata": {},
          "execution_count": 44
        }
      ]
    },
    {
      "cell_type": "code",
      "source": [
        "wei.var()"
      ],
      "metadata": {
        "colab": {
          "base_uri": "https://localhost:8080/"
        },
        "id": "MLb_odHU3iKM",
        "outputId": "86be2277-1483-4662-ecff-785cbe06849b"
      },
      "execution_count": null,
      "outputs": [
        {
          "output_type": "execute_result",
          "data": {
            "text/plain": [
              "tensor(1.0918)"
            ]
          },
          "metadata": {},
          "execution_count": 45
        }
      ]
    },
    {
      "cell_type": "code",
      "source": [
        "torch.softmax(torch.tensor([0.1, -0.2, 0.3, -0.2, 0.5]), dim=-1)"
      ],
      "metadata": {
        "colab": {
          "base_uri": "https://localhost:8080/"
        },
        "id": "JB82yzt44REI",
        "outputId": "368b0808-0ad3-4b1c-b408-f6b69258b271"
      },
      "execution_count": null,
      "outputs": [
        {
          "output_type": "execute_result",
          "data": {
            "text/plain": [
              "tensor([0.1925, 0.1426, 0.2351, 0.1426, 0.2872])"
            ]
          },
          "metadata": {},
          "execution_count": 46
        }
      ]
    },
    {
      "cell_type": "code",
      "source": [
        "torch.softmax(torch.tensor([0.1, -0.2, 0.3, -0.2, 0.5])*8, dim=-1) # gets too peaky, converges to one-hot"
      ],
      "metadata": {
        "colab": {
          "base_uri": "https://localhost:8080/"
        },
        "id": "Mpt8569BB9_f",
        "outputId": "df145197-afdb-4f11-e736-db9c804c45cc"
      },
      "execution_count": null,
      "outputs": [
        {
          "output_type": "execute_result",
          "data": {
            "text/plain": [
              "tensor([0.0326, 0.0030, 0.1615, 0.0030, 0.8000])"
            ]
          },
          "metadata": {},
          "execution_count": 47
        }
      ]
    },
    {
      "cell_type": "code",
      "source": [
        "class LayerNorm1d: # (used to be BatchNorm1d)\n",
        "\n",
        "  def __init__(self, dim, eps=1e-5, momentum=0.1):\n",
        "    self.eps = eps\n",
        "    self.gamma = torch.ones(dim)\n",
        "    self.beta = torch.zeros(dim)\n",
        "\n",
        "  def __call__(self, x):\n",
        "    # calculate the forward pass\n",
        "    xmean = x.mean(1, keepdim=True) # batch mean\n",
        "    xvar = x.var(1, keepdim=True) # batch variance\n",
        "    xhat = (x - xmean) / torch.sqrt(xvar + self.eps) # normalize to unit variance\n",
        "    self.out = self.gamma * xhat + self.beta\n",
        "    return self.out\n",
        "\n",
        "  def parameters(self):\n",
        "    return [self.gamma, self.beta]\n",
        "\n",
        "torch.manual_seed(1337)\n",
        "module = LayerNorm1d(100)\n",
        "x = torch.randn(32, 100) # batch size 32 of 100-dimensional vectors\n",
        "x = module(x)\n",
        "x.shape"
      ],
      "metadata": {
        "colab": {
          "base_uri": "https://localhost:8080/"
        },
        "id": "2Num7sX9CKOH",
        "outputId": "a67a336b-d088-45ac-fe9e-67ebcb03ef54"
      },
      "execution_count": null,
      "outputs": [
        {
          "output_type": "execute_result",
          "data": {
            "text/plain": [
              "torch.Size([32, 100])"
            ]
          },
          "metadata": {},
          "execution_count": 48
        }
      ]
    },
    {
      "cell_type": "code",
      "source": [
        "x[:,0].mean(), x[:,0].std() # mean,std of one feature across all batch inputs"
      ],
      "metadata": {
        "colab": {
          "base_uri": "https://localhost:8080/"
        },
        "id": "633T2cmnW1uk",
        "outputId": "878cf4ef-b193-4d23-aa52-89e1fcfd5195"
      },
      "execution_count": null,
      "outputs": [
        {
          "output_type": "execute_result",
          "data": {
            "text/plain": [
              "(tensor(0.1469), tensor(0.8803))"
            ]
          },
          "metadata": {},
          "execution_count": 49
        }
      ]
    },
    {
      "cell_type": "code",
      "source": [
        "x[0,:].mean(), x[0,:].std() # mean,std of a single input from the batch, of its features"
      ],
      "metadata": {
        "colab": {
          "base_uri": "https://localhost:8080/"
        },
        "id": "LN9cK9BoXCYb",
        "outputId": "bcc7420f-b1f1-4f84-a2c1-1f5cb3a314a1"
      },
      "execution_count": null,
      "outputs": [
        {
          "output_type": "execute_result",
          "data": {
            "text/plain": [
              "(tensor(-9.5367e-09), tensor(1.0000))"
            ]
          },
          "metadata": {},
          "execution_count": 50
        }
      ]
    },
    {
      "cell_type": "code",
      "source": [
        "# French to English translation example:\n",
        "\n",
        "# <--------- ENCODE ------------------><--------------- DECODE ----------------->\n",
        "# les réseaux de neurones sont géniaux! <START> neural networks are awesome!<END>\n",
        "\n"
      ],
      "metadata": {
        "id": "dRJH6wM_XFfU"
      },
      "execution_count": null,
      "outputs": []
    },
    {
      "cell_type": "markdown",
      "source": [
        "### Full finished code, for reference\n",
        "\n",
        "You may want to refer directly to the git repo instead though."
      ],
      "metadata": {
        "id": "ZcvKeBXoZFOY"
      }
    },
    {
      "cell_type": "code",
      "source": [
        "import torch\n",
        "import torch.nn as nn\n",
        "from torch.nn import functional as F\n",
        "\n",
        "# hyperparameters\n",
        "batch_size = 16 # how many independent sequences will we process in parallel?\n",
        "block_size = 32 # what is the maximum context length for predictions?\n",
        "max_iters = 5000\n",
        "eval_interval = 100\n",
        "learning_rate = 1e-3\n",
        "device = 'cuda' if torch.cuda.is_available() else 'cpu'\n",
        "eval_iters = 200\n",
        "n_embd = 64\n",
        "n_head = 4\n",
        "n_layer = 4\n",
        "dropout = 0.0\n",
        "# ------------\n",
        "\n",
        "torch.manual_seed(1337)\n",
        "\n",
        "with open('/content/Arabic Poem Comprehensive Dataset (APCD).csv', 'r', encoding='utf-8') as f:\n",
        "    text = f.read()\n",
        "\n",
        "# here are all the unique characters that occur in this text\n",
        "chars = sorted(list(set(text)))\n",
        "vocab_size = len(chars)\n",
        "# create a mapping from characters to integers\n",
        "stoi = { ch:i for i,ch in enumerate(chars) }\n",
        "itos = { i:ch for i,ch in enumerate(chars) }\n",
        "encode = lambda s: [stoi[c] for c in s] # encoder: take a string, output a list of integers\n",
        "decode = lambda l: ''.join([itos[i] for i in l]) # decoder: take a list of integers, output a string\n",
        "\n",
        "# Train and test splits\n",
        "data = torch.tensor(encode(text), dtype=torch.long)\n",
        "n = int(0.9*len(data)) # first 90% will be train, rest val\n",
        "train_data = data[:n]\n",
        "val_data = data[n:]\n",
        "\n",
        "# data loading\n",
        "def get_batch(split):\n",
        "    # generate a small batch of data of inputs x and targets y\n",
        "    data = train_data if split == 'train' else val_data\n",
        "    ix = torch.randint(len(data) - block_size, (batch_size,))\n",
        "    x = torch.stack([data[i:i+block_size] for i in ix])\n",
        "    y = torch.stack([data[i+1:i+block_size+1] for i in ix])\n",
        "    x, y = x.to(device), y.to(device)\n",
        "    return x, y\n",
        "\n",
        "@torch.no_grad()\n",
        "def estimate_loss():\n",
        "    out = {}\n",
        "    model.eval()\n",
        "    for split in ['train', 'val']:\n",
        "        losses = torch.zeros(eval_iters)\n",
        "        for k in range(eval_iters):\n",
        "            X, Y = get_batch(split)\n",
        "            logits, loss = model(X, Y)\n",
        "            losses[k] = loss.item()\n",
        "        out[split] = losses.mean()\n",
        "    model.train()\n",
        "    return out\n",
        "\n",
        "class Head(nn.Module):\n",
        "    \"\"\" one head of self-attention \"\"\"\n",
        "\n",
        "    def __init__(self, head_size):\n",
        "        super().__init__()\n",
        "        self.key = nn.Linear(n_embd, head_size, bias=False)\n",
        "        self.query = nn.Linear(n_embd, head_size, bias=False)\n",
        "        self.value = nn.Linear(n_embd, head_size, bias=False)\n",
        "        self.register_buffer('tril', torch.tril(torch.ones(block_size, block_size)))\n",
        "\n",
        "        self.dropout = nn.Dropout(dropout)\n",
        "\n",
        "    def forward(self, x):\n",
        "        B,T,C = x.shape\n",
        "        k = self.key(x)   # (B,T,C)\n",
        "        q = self.query(x) # (B,T,C)\n",
        "        # compute attention scores (\"affinities\")\n",
        "        wei = q @ k.transpose(-2,-1) * C**-0.5 # (B, T, C) @ (B, C, T) -> (B, T, T)\n",
        "        wei = wei.masked_fill(self.tril[:T, :T] == 0, float('-inf')) # (B, T, T)\n",
        "        wei = F.softmax(wei, dim=-1) # (B, T, T)\n",
        "        wei = self.dropout(wei)\n",
        "        # perform the weighted aggregation of the values\n",
        "        v = self.value(x) # (B,T,C)\n",
        "        out = wei @ v # (B, T, T) @ (B, T, C) -> (B, T, C)\n",
        "        return out\n",
        "\n",
        "class MultiHeadAttention(nn.Module):\n",
        "    \"\"\" multiple heads of self-attention in parallel \"\"\"\n",
        "\n",
        "    def __init__(self, num_heads, head_size):\n",
        "        super().__init__()\n",
        "        self.heads = nn.ModuleList([Head(head_size) for _ in range(num_heads)])\n",
        "        self.proj = nn.Linear(n_embd, n_embd)\n",
        "        self.dropout = nn.Dropout(dropout)\n",
        "\n",
        "    def forward(self, x):\n",
        "        out = torch.cat([h(x) for h in self.heads], dim=-1)\n",
        "        out = self.dropout(self.proj(out))\n",
        "        return out\n",
        "\n",
        "class FeedFoward(nn.Module):\n",
        "    \"\"\" a simple linear layer followed by a non-linearity \"\"\"\n",
        "\n",
        "    def __init__(self, n_embd):\n",
        "        super().__init__()\n",
        "        self.net = nn.Sequential(\n",
        "            nn.Linear(n_embd, 4 * n_embd),\n",
        "            nn.ReLU(),\n",
        "            nn.Linear(4 * n_embd, n_embd),\n",
        "            nn.Dropout(dropout),\n",
        "        )\n",
        "\n",
        "    def forward(self, x):\n",
        "        return self.net(x)\n",
        "\n",
        "class Block(nn.Module):\n",
        "    \"\"\" Transformer block: communication followed by computation \"\"\"\n",
        "\n",
        "    def __init__(self, n_embd, n_head):\n",
        "        # n_embd: embedding dimension, n_head: the number of heads we'd like\n",
        "        super().__init__()\n",
        "        head_size = n_embd // n_head\n",
        "        self.sa = MultiHeadAttention(n_head, head_size)\n",
        "        self.ffwd = FeedFoward(n_embd)\n",
        "        self.ln1 = nn.LayerNorm(n_embd)\n",
        "        self.ln2 = nn.LayerNorm(n_embd)\n",
        "\n",
        "    def forward(self, x):\n",
        "        x = x + self.sa(self.ln1(x))\n",
        "        x = x + self.ffwd(self.ln2(x))\n",
        "        return x\n",
        "\n",
        "# super simple bigram model\n",
        "class BigramLanguageModel(nn.Module):\n",
        "\n",
        "    def __init__(self):\n",
        "        super().__init__()\n",
        "        # each token directly reads off the logits for the next token from a lookup table\n",
        "        self.token_embedding_table = nn.Embedding(vocab_size, n_embd)\n",
        "        self.position_embedding_table = nn.Embedding(block_size, n_embd)\n",
        "        self.blocks = nn.Sequential(*[Block(n_embd, n_head=n_head) for _ in range(n_layer)])\n",
        "        self.ln_f = nn.LayerNorm(n_embd) # final layer norm\n",
        "        self.lm_head = nn.Linear(n_embd, vocab_size)\n",
        "\n",
        "    def forward(self, idx, targets=None):\n",
        "        B, T = idx.shape\n",
        "\n",
        "        # idx and targets are both (B,T) tensor of integers\n",
        "        tok_emb = self.token_embedding_table(idx) # (B,T,C)\n",
        "        pos_emb = self.position_embedding_table(torch.arange(T, device=device)) # (T,C)\n",
        "        x = tok_emb + pos_emb # (B,T,C)\n",
        "        x = self.blocks(x) # (B,T,C)\n",
        "        x = self.ln_f(x) # (B,T,C)\n",
        "        logits = self.lm_head(x) # (B,T,vocab_size)\n",
        "\n",
        "        if targets is None:\n",
        "            loss = None\n",
        "        else:\n",
        "            B, T, C = logits.shape\n",
        "            logits = logits.view(B*T, C)\n",
        "            targets = targets.view(B*T)\n",
        "            loss = F.cross_entropy(logits, targets)\n",
        "\n",
        "        return logits, loss\n",
        "\n",
        "    def generate(self, idx, max_new_tokens):\n",
        "        # idx is (B, T) array of indices in the current context\n",
        "        for _ in range(max_new_tokens):\n",
        "            # crop idx to the last block_size tokens\n",
        "            idx_cond = idx[:, -block_size:]\n",
        "            # get the predictions\n",
        "            logits, loss = self(idx_cond)\n",
        "            # focus only on the last time step\n",
        "            logits = logits[:, -1, :] # becomes (B, C)\n",
        "            # apply softmax to get probabilities\n",
        "            probs = F.softmax(logits, dim=-1) # (B, C)\n",
        "            # sample from the distribution\n",
        "            idx_next = torch.multinomial(probs, num_samples=1) # (B, 1)\n",
        "            # append sampled index to the running sequence\n",
        "            idx = torch.cat((idx, idx_next), dim=1) # (B, T+1)\n",
        "        return idx\n",
        "\n",
        "model = BigramLanguageModel()\n",
        "m = model.to(device)\n",
        "# print the number of parameters in the model\n",
        "print(sum(p.numel() for p in m.parameters())/1e6, 'M parameters')\n",
        "\n",
        "# create a PyTorch optimizer\n",
        "optimizer = torch.optim.AdamW(model.parameters(), lr=learning_rate)\n",
        "\n",
        "for iter in range(max_iters):\n",
        "\n",
        "    # every once in a while evaluate the loss on train and val sets\n",
        "    if iter % eval_interval == 0 or iter == max_iters - 1:\n",
        "        losses = estimate_loss()\n",
        "        print(f\"step {iter}: train loss {losses['train']:.4f}, val loss {losses['val']:.4f}\")\n",
        "\n",
        "    # sample a batch of data\n",
        "    xb, yb = get_batch('train')\n",
        "\n",
        "    # evaluate the loss\n",
        "    logits, loss = model(xb, yb)\n",
        "    optimizer.zero_grad(set_to_none=True)\n",
        "    loss.backward()\n",
        "    optimizer.step()\n",
        "\n",
        "# generate from the model\n",
        "context = torch.zeros((1, 1), dtype=torch.long, device=device)\n",
        "print(decode(m.generate(context, max_new_tokens=2000)[0].tolist()))\n"
      ],
      "metadata": {
        "colab": {
          "base_uri": "https://localhost:8080/"
        },
        "id": "hoelkOrFY8bN",
        "outputId": "7218fee8-187d-4d33-c965-20672fae7d90"
      },
      "execution_count": null,
      "outputs": [
        {
          "output_type": "stream",
          "name": "stdout",
          "text": [
            "0.207407 M parameters\n",
            "step 0: train loss 3.9309, val loss 3.9367\n",
            "step 100: train loss 2.5433, val loss 2.5416\n",
            "step 200: train loss 2.3745, val loss 2.4027\n",
            "step 300: train loss 2.1971, val loss 2.2255\n",
            "step 400: train loss 2.0637, val loss 2.1099\n",
            "step 500: train loss 1.9656, val loss 2.0075\n",
            "step 600: train loss 1.8958, val loss 1.9491\n",
            "step 700: train loss 1.8441, val loss 1.9035\n",
            "step 800: train loss 1.8123, val loss 1.8610\n",
            "step 900: train loss 1.7850, val loss 1.8145\n",
            "step 1000: train loss 1.7482, val loss 1.7726\n",
            "step 1100: train loss 1.7333, val loss 1.7684\n",
            "step 1200: train loss 1.7214, val loss 1.7417\n",
            "step 1300: train loss 1.6963, val loss 1.7465\n",
            "step 1400: train loss 1.6839, val loss 1.7037\n",
            "step 1500: train loss 1.6514, val loss 1.6987\n",
            "step 1600: train loss 1.6407, val loss 1.7157\n",
            "step 1700: train loss 1.6491, val loss 1.6672\n",
            "step 1800: train loss 1.6460, val loss 1.6719\n",
            "step 1900: train loss 1.6181, val loss 1.6611\n",
            "step 2000: train loss 1.5916, val loss 1.6553\n",
            "step 2100: train loss 1.6023, val loss 1.6297\n",
            "step 2200: train loss 1.6036, val loss 1.6600\n",
            "step 2300: train loss 1.5714, val loss 1.6231\n",
            "step 2400: train loss 1.5886, val loss 1.6346\n",
            "step 2500: train loss 1.5566, val loss 1.6179\n",
            "step 2600: train loss 1.5807, val loss 1.6221\n",
            "step 2700: train loss 1.5445, val loss 1.6082\n",
            "step 2800: train loss 1.5586, val loss 1.5747\n",
            "step 2900: train loss 1.5553, val loss 1.5679\n",
            "step 3000: train loss 1.5490, val loss 1.5945\n",
            "step 3100: train loss 1.5472, val loss 1.5830\n",
            "step 3200: train loss 1.5382, val loss 1.5697\n",
            "step 3300: train loss 1.5192, val loss 1.5647\n",
            "step 3400: train loss 1.5243, val loss 1.5769\n",
            "step 3500: train loss 1.5153, val loss 1.5553\n",
            "step 3600: train loss 1.5433, val loss 1.5674\n",
            "step 3700: train loss 1.4969, val loss 1.5440\n",
            "step 3800: train loss 1.5030, val loss 1.5700\n",
            "step 3900: train loss 1.5166, val loss 1.5691\n",
            "step 4000: train loss 1.5137, val loss 1.5561\n",
            "step 4100: train loss 1.5122, val loss 1.5542\n",
            "step 4200: train loss 1.5088, val loss 1.5236\n",
            "step 4300: train loss 1.4833, val loss 1.5528\n",
            "step 4400: train loss 1.4934, val loss 1.5303\n",
            "step 4500: train loss 1.4963, val loss 1.5172\n",
            "step 4600: train loss 1.4876, val loss 1.5334\n",
            "step 4700: train loss 1.4808, val loss 1.5447\n",
            "step 4800: train loss 1.4967, val loss 1.5592\n",
            "step 4900: train loss 1.4853, val loss 1.5260\n",
            "step 4999: train loss 1.4654, val loss 1.5248\n",
            "\n",
            "الأموي,الأَخطَل,الديوان الرئيسي,ر,البلطويل,كَأَنَّ عِثلَ الدَولاءِ فيهِمِ   لريسَ المُجلَيسَ خائِرَهُم مَنَصَّلي\n",
            "العباسي,أبو فِراس الحَمَداني,الديوان الرئيسي,ل,الكامل,كَبلَت فيما أَقلالِيَ أَفيرُ,وَما عَلى خَولَ السُلافِ اِعتِياتِها,وَأَنَّ قَلَت وَما قُلرانُ حَدهُ اِعتِمُهُ    أَكُفورُكا  مِنها فَزَدّمُ الوَعلُ رِجِّهِمُ,وَعُد ثائِراءُ نَواهاً ما تَشَرَّتي,لَم يَيتَ فيكَ شاء حيمٌ وَمِنالِ\n",
            "اِسعبانِهُ,حَمَيادُ بِيَني المِستَنَبِ قُبطِ,لَهَم ساكَ عَلّا يَنتُم أَلا,غَلَرتُ مُئَيهِما,طَوادوا تَأَفُّرُ الحاشِبِ\n",
            "المخضرمين,الراعي النُمَيري,الديوان الرئيسي,ء,الطويل,وَإِلّا عَمّاً ذا ثائَراً غامَيتُ    كانَ إِلّا فَلاقَ بِاهِهِ فَلَها    لَو زَلَموا,وَمُذَّوِّراً أَم يَ اِعتِبُ وَالأَبلُ\n",
            "الأموي,الأَخطَل,الديوان الرئيسي,ن,الطويل,قَدَرتُ مُلتَ المَراحريحُ يداقَةُ نوءِ\n",
            "الأموي,الأَخطَل,الديوان الرئيسي,م,البسيط,دَكَمتُ خِلباطاً صَغيلُهُم كَلائِكا\n",
            "الأموي,الأَخطَل,الديوان الرئيسي,ر,الطويل,وَبَطلُ يُزافِرِهُ العَينِ كُلِّ رَفيدٌ   تَأماني اللَمطَ بَالبُؤرَفِ الشَكامِ\n",
            "العباسي,آبو فِراس الشَمّام أمنام   وَكِندي شَفِيَينا,أَباحاهُ أَنَّكَ ما خاضِدٌ مَاِزوا    صَحَبّي بِأَحموا وَتِنتافِ ثُهُّها القومِ بُعدّي,أَنّي لِلقَتِئاِ أَمرَكَ فيكَ راحي,يَأطُلنى فيرِكتُ بِأَذرى السَيفِه\n",
            "الأموي,الأَخطَل,الديوان الرئيسي,ب,الطويل,وَما وَخَدتُ مِصَكراً بِغابِلِهِ,وَكَونَ أَنضَمَ الحُطاقِمُ بِعَيرَ العَوالِكِ فَاِستَحاقِهِ   شَرامُهاً تَفَضَدُ\n",
            "العباسي,المُتَنَبّي,الديوان الرئيسي,ه,الكامل,فَلا أَنتَ أَكلَةَ الكِلومِ مُجتَيكَ بَيتُهُ,أُهعِلنا حِبابُ مُفتَنى مِن زَدِهارِ,وَيَبوضِ الهُمُّ جِعرُهُ اِبنِ حَسَما\n",
            "الأموي,الراعي النُمَيري,الديوان الرئيسي,ن,الكامل,فَيَفنا أَحَدَّ ضَعَيباً بِيَني    كُلّاقَ الحادِقينِ جَنالَها,لِلمُشرِجٍ وَالأَرَمُ دامُ بِهِ   وَما وَغِبَت قُربازاً وَما بِدَكَرتُمانُ,رَعَت الأُلمَعنا وَالعُنومُ فَلا يَكُنُّ الصُحومُ\n",
            "العباسي,المُتَنَبّي,الديوان الرئيسي,ح,البسيط,فُؤالي وَأَلَمَ عينٌ وَجَرونا ساصِلِحُ الكَبانُ الغُيرُ,لَو إِذا فاضُ الرُخانِيَهُمُ ال,جُؤَلٌ جَدانُهُ القالِدِ صادِحُ,فَأَنَّ المُلائِلُ الهُمورِ كُلِّها,وَلَيمُ جُرّى فيضارِ خاورَ فيضاً,بِثَوسَ غادٍ الحُسامُ بِاِحتَقِتارِ\n"
          ]
        }
      ]
    },
    {
      "cell_type": "code",
      "source": [],
      "metadata": {
        "id": "fjjvMifYZf7x"
      },
      "execution_count": null,
      "outputs": []
    }
  ]
}